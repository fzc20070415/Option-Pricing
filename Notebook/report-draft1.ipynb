{
 "cells": [
  {
   "cell_type": "markdown",
   "metadata": {},
   "source": [
    "# Math 164 Project 1 Report - Option Pricing"
   ]
  },
  {
   "cell_type": "markdown",
   "metadata": {},
   "source": [
    "### We want to analyze the dynamics of underlying security price. \n",
    "### We will use the Black-Scholes Formula to estimate the European call/put option price with historical volatility and implied volatility respectively."
   ]
  },
  {
   "cell_type": "markdown",
   "metadata": {},
   "source": [
    "## Part I. Black-Scholes Formula"
   ]
  },
  {
   "cell_type": "markdown",
   "metadata": {},
   "source": [
    "The Black-Scholes formula is a simple way to estimate the option price with the given maturity ($T$), strike price ($K$), current stock price ($S_0$), interest rate (risk-free rate) ($r$), dividend rate ($\\delta$) and volatility ($\\sigma^2$). In this project, we assume divident rate, $\\delta=0$ for simplicity.\n",
    "\n",
    "Thus, we will use the following Black-Scholes formulas in this project to estimate option prices:\n",
    "\n",
    "Call Option:\n",
    "\\begin{equation}\n",
    "C=S_0N(d_1)-Ke^{-rT}N(d_2)\n",
    "\\end{equation}\n",
    "\n",
    "Put Option:\n",
    "\\begin{equation}\n",
    "P=Ke^{-rT}N(-d_2)-S_0N(-d_1)\n",
    "\\end{equation}\n",
    "\n",
    "where\n",
    "\\begin{equation}\n",
    "d_1=\\frac{ln(\\frac{S_0}{K})+(r+\\frac{1}{2}\\sigma^2)T}{\\sigma\\sqrt{T}}\\\\\n",
    "d_2=d_1-\\sigma\\sqrt{T}\n",
    "\\end{equation}\n",
    "\n",
    "From Yahoo Finance, we can easily obtain all of the required information except volatility. Thus, the goal of this project is to assess the accuracy of option price estimation using various volatility estimating methods."
   ]
  },
  {
   "cell_type": "markdown",
   "metadata": {},
   "source": [
    "## Part II. Preparation"
   ]
  },
  {
   "cell_type": "markdown",
   "metadata": {},
   "source": [
    "We will be using the data of options of Apple Inc traded on March 20, 2018 for this project. We obtain this dataset from Yahoo Finance.\n",
    "\n",
    "From treasury.gov, we use the value of Treasury 20-Yr CMT on March 20, 2018 as the interest rate. i.e. $r=3.01\\%$"
   ]
  },
  {
   "cell_type": "markdown",
   "metadata": {},
   "source": [
    "### Preparation"
   ]
  },
  {
   "cell_type": "code",
   "execution_count": null,
   "metadata": {},
   "outputs": [],
   "source": [
    "import numpy as np\n",
    "import scipy.stats\n",
    "from math import *\n",
    "import csv\n",
    "from datetime import datetime\n",
    "import matplotlib.pyplot as plt\n",
    "import sys\n",
    "from scipy.optimize import curve_fit\n",
    "import statistics\n",
    "import time\n",
    "from sklearn.svm import SVR\n",
    "from sklearn.model_selection import GridSearchCV\n",
    "from sklearn.model_selection import learning_curve\n",
    "from sklearn.kernel_ridge import KernelRidge"
   ]
  },
  {
   "cell_type": "markdown",
   "metadata": {},
   "source": [
    "To start the project, we import all dependencies needed. We will be using sci-kit learn to approximate graphs in Part IV. Implied Volatility."
   ]
  },
  {
   "cell_type": "code",
   "execution_count": null,
   "metadata": {},
   "outputs": [],
   "source": [
    "### GLOBAL VARIABLES ###\n",
    "# We set risk-free rate at 3.01%. Data obtained from treasury.gov, using Treasury 20-yr CMT\n",
    "RATE = 0.0301\n",
    "DAY = 365\n",
    "BEST = 1\n",
    "DATE = '0-0-0'\n",
    "DATE = '3/20/2018'   ### DEBUG ###\n",
    "PT_NUM = 10"
   ]
  },
  {
   "cell_type": "markdown",
   "metadata": {},
   "source": [
    "We introduce some global variables. Clearly, the risk free rate is constant throughout. We set the total days in a year as 365. We can also use 261, which is the total number of calendar working days in 2018. This number will not have a noticeable influence to our result. DATE is initialized for convenience. PT_NUM is a parameter indicating the minimum number of points required for Implied Volatlity estimation in Part IV."
   ]
  },
  {
   "cell_type": "code",
   "execution_count": null,
   "metadata": {},
   "outputs": [],
   "source": [
    "# Load historical option data on 2018/3/20\n",
    "with open(\"../data/AAPL_032018.csv\") as data:\n",
    "    data_reader = csv.reader(data)\n",
    "    raw_data = list(data_reader)\n",
    "\n",
    "# Load historical price\n",
    "with open(\"../data/AAPL_HP.csv\") as data:\n",
    "    data_reader = csv.reader(data)\n",
    "    raw_hp = list(data_reader)"
   ]
  },
  {
   "cell_type": "markdown",
   "metadata": {},
   "source": [
    "AAPL_032018.csv stores the details of options traded on 3/20/2018. \n",
    "\n",
    "AAPL_HP.csv stores the historical stock prices of Apple Inc from 2/4/2010 to present. We import these 2 tables."
   ]
  },
  {
   "cell_type": "code",
   "execution_count": null,
   "metadata": {},
   "outputs": [],
   "source": [
    "logg = open(\"../log/log.txt\", \"w\")\n",
    "\n",
    "# Write log info into local log.txt\n",
    "def write_log(*args, sep=' ', end='\\n', file=None):\n",
    "    # print(string, therest)\n",
    "    print(*args, sep=' ', end='\\n', file=None)\n",
    "    # print(string, file=log)\n",
    "    print(*args, sep=' ', end='\\n', file=logg)\n",
    "\n",
    "# Write report into local file\n",
    "def write_report_into_file(report_list, filename=\"report.csv\"):\n",
    "    with open(\"../report/\" + filename, 'w') as book:\n",
    "        wr = csv.writer(book, delimiter=',', lineterminator='\\n')\n",
    "        for row in report_list:\n",
    "            wr.writerow(row, )"
   ]
  },
  {
   "cell_type": "markdown",
   "metadata": {},
   "source": [
    "We initiate 2 helper functions here. Function write_log will write all outputs into the log file at \"../log/log.txt\". Function write_report_into_file will write the input list into the report table at \"../report/report.csv\" (default)."
   ]
  },
  {
   "cell_type": "markdown",
   "metadata": {},
   "source": [
    "## Part III. Historical Volatility"
   ]
  },
  {
   "cell_type": "markdown",
   "metadata": {},
   "source": [
    "In this section, we assume volatility is constant throughout the day for all options. We will estimate the volatility on March 20, 2018 by learning the historical stock prices of Apple Inc. \n",
    "\n",
    "We use MLE to calculate the volatility of the day:\n",
    "\\begin{equation}\n",
    "\\bar{\\sigma}^2=\\frac{1}{n}\\sum_{t=1}^n(R_t-\\bar{R})^2\n",
    "\\end{equation}\n",
    "where\n",
    "\\begin{equation}\n",
    "R_t=log(\\frac{S_t}{S_{t-1}})\n",
    "\\end{equation}"
   ]
  },
  {
   "cell_type": "markdown",
   "metadata": {},
   "source": [
    "### Estimate Historical Volatility (HV)"
   ]
  },
  {
   "cell_type": "code",
   "execution_count": null,
   "metadata": {},
   "outputs": [],
   "source": [
    "# Calculate average R_t in the given data\n",
    "def average_volatility(raw, start=1, end=0):\n",
    "    # parameter:\n",
    "        # raw - matrix of history price\n",
    "    r = len(raw)\n",
    "    count = 0\n",
    "    # print(\"Number of records = \" + str(r))\n",
    "    sum = 0\n",
    "    for i in range (start + 1, r):\n",
    "        # if i <= start:\n",
    "        #     continue\n",
    "        if end != 0 and i > end:\n",
    "            break\n",
    "        p1 = float(raw[i-1][4])\n",
    "        p2 = float(raw[i][4])\n",
    "        temp1 = log(p2/p1)\n",
    "        # print(temp1)\n",
    "        sum = sum + temp1\n",
    "        count = count + 1\n",
    "    avg = sum/count\n",
    "    # print(\"Sum is \" + str(sum))\n",
    "    # print(\"Avg is \" + str(avg))\n",
    "    return avg"
   ]
  },
  {
   "cell_type": "markdown",
   "metadata": {},
   "source": [
    "Function average_volatility will return $\\bar{R}$ which is required to calculate historical volatility."
   ]
  },
  {
   "cell_type": "code",
   "execution_count": null,
   "metadata": {},
   "outputs": [],
   "source": [
    "# Calculate estimated variance - volatility\n",
    "def get_volatility(raw, start=1, end=0):\n",
    "    # parameter:\n",
    "        # raw - matrix of history price (including header)\n",
    "    r = len(raw)\n",
    "    sum = 0\n",
    "    count = 0\n",
    "    avg = average_volatility(raw, start=start, end=end)\n",
    "    for i in range(start+1, r):\n",
    "        if end != 0 and i > end:\n",
    "            break\n",
    "        p1 = float(raw[i-1][4])\n",
    "        p2 = float(raw[i][4])\n",
    "        temp1 = log(p2/p1)\n",
    "        sum = sum + temp1 * temp1\n",
    "        count = count + 1\n",
    "\n",
    "    # Use variance formula which \\sum (X-E[X])^2 = E[X^2] - E[X]^2\n",
    "    E_X2 = sum/count\n",
    "    var = E_X2 - avg * avg\n",
    "    # We times volatility of one business day with #business days\n",
    "    var = 260 * var\n",
    "    print(\"Estimated volatility^2 is \" + str(var))\n",
    "    return var"
   ]
  },
  {
   "cell_type": "markdown",
   "metadata": {},
   "source": [
    "Function get_volatility will return $\\bar{\\sigma}^2$, which is the historical volatility (HV) that we want."
   ]
  },
  {
   "cell_type": "markdown",
   "metadata": {},
   "source": [
    "### Evaluation of HV"
   ]
  },
  {
   "cell_type": "markdown",
   "metadata": {},
   "source": [
    "After obtaining HV, we want to assess its accuracy in predicting option prices. We will plug in the calculated HV to the Black-Scholes Formula to obtain the estimated put/call option prices. We will compare these estimated results with the real results to check the accuracy of HV."
   ]
  },
  {
   "cell_type": "code",
   "execution_count": null,
   "metadata": {},
   "outputs": [],
   "source": [
    "def get_maturity(raw_trade, raw_expire):\n",
    "    # parameter:\n",
    "        # raw_trade - trade date of the option\n",
    "        # raw_expire - expiration date of the option\n",
    "    # print(\"GET_MATURITY CALLED\", raw_trade, raw_expire)\n",
    "    trade_date = datetime.strptime(raw_trade, '%m/%d/%Y')\n",
    "    trade_days = float(datetime.strftime(trade_date, '%j')) * DAY / 365\n",
    "    trade_year = float(datetime.strftime(trade_date, '%Y'))\n",
    "    expire_date = datetime.strptime(raw_expire, '%m/%d/%Y')\n",
    "    expire_days = float(datetime.strftime(expire_date, '%j')) * DAY / 365\n",
    "    expire_year = float(datetime.strftime(expire_date, '%Y'))\n",
    "    expire_days = expire_days + (expire_year - trade_year) * DAY\n",
    "    day_difference = expire_days - trade_days\n",
    "    h = day_difference / DAY        # Length of maturity\n",
    "    return h"
   ]
  },
  {
   "cell_type": "markdown",
   "metadata": {},
   "source": [
    "Function get_maturity will return maturity in number of years."
   ]
  },
  {
   "cell_type": "code",
   "execution_count": null,
   "metadata": {},
   "outputs": [],
   "source": [
    "# Calculate d1 and d2\n",
    "def get_d1_d2(sd, h, s, k):\n",
    "    # parameter:\n",
    "        # sd - Volatility\n",
    "        # h - Maturity\n",
    "        # s - Stock Price, S_0\n",
    "        # k - Strike Price, K\n",
    "    d1 = (1/(sd * sqrt(h))) * ((log(s/k)) + (RATE + ((sd * sd)/2)) * h)\n",
    "    # Use d2 = d1 - sqrt(vol) * sqrt(maturity)\n",
    "    d2 = d1 - ( sd * sqrt(h) )\n",
    "    # print(d1, d2)\n",
    "    return d1, d2"
   ]
  },
  {
   "cell_type": "markdown",
   "metadata": {},
   "source": [
    "Function get_d1_d2 will return values of d1 and d2 for Black-Scholes formula."
   ]
  },
  {
   "cell_type": "code",
   "execution_count": null,
   "metadata": {},
   "outputs": [],
   "source": [
    "# Estimate option price using BS formula\n",
    "def bs_call_put(h, s, k, sd):\n",
    "    # parameter:\n",
    "        # h - Maturity\n",
    "        # s - Stock Price, S_0\n",
    "        # k - Strike Price, K\n",
    "        # sd - Volatility\n",
    "    d1, d2 = get_d1_d2(sd, h, s, k)\n",
    "    # We ignore divident here\n",
    "    N1 = scipy.stats.norm.cdf(d1)\n",
    "    N2 = scipy.stats.norm.cdf(d2)\n",
    "    call = (N1 * s) - (N2 * k * exp(- RATE * h))\n",
    "    N_1 = 1 - N1\n",
    "    N_2 = 1 - N2\n",
    "    put = (N_2 * k * exp(- RATE * h)) - (s * N_1)\n",
    "    return call, put"
   ]
  },
  {
   "cell_type": "markdown",
   "metadata": {},
   "source": [
    "Function bs_call_put will return call and put option prices with the given parameters."
   ]
  },
  {
   "cell_type": "code",
   "execution_count": null,
   "metadata": {},
   "outputs": [],
   "source": [
    "# Calculate estimated call option price\n",
    "def estimate_call_put(raw, vol, start=1, end=0):\n",
    "    # parameters:\n",
    "        # raw - raw_data (including header)\n",
    "        # vol - estimated volatility^2\n",
    "        # start - starting row\n",
    "        # end - ending row\n",
    "    r = len(raw)\n",
    "    # Calculate Standard Deviation (Vol)\n",
    "    sd = sqrt(vol)\n",
    "    # print(\"Standard Deviation = Volatility is \" + str(sd))\n",
    "    # Obtain maturity of option\n",
    "\n",
    "    if sd == 0:\n",
    "        # If volatility is 0, call/put options will have price of 0 \n",
    "        # since future prices of stock price is fully predicatable with no risk.\n",
    "        return [[0,0]]*r\n",
    "\n",
    "    output = []\n",
    "\n",
    "    for i in range(r):\n",
    "        # Get T-t\n",
    "        if i < start:\n",
    "            continue\n",
    "        if i >= end and end != 0:\n",
    "            break\n",
    "        raw_trade = raw[i][3]\n",
    "        raw_expire = raw[i][10]\n",
    "        year_difference = get_maturity(raw_trade, raw_expire)\n",
    "        # print(\"Maturity is \" + str(year_difference))\n",
    "\n",
    "        # Get Initial Stock price\n",
    "        S = float(raw[i][26])\n",
    "        # print(\"Stock price is \" + str(S))\n",
    "\n",
    "        # Get Strike price\n",
    "        K = float(raw[i][11])\n",
    "        # print(\"Strike price is \" + str(K))\n",
    "\n",
    "        # Get call, put option premium\n",
    "        call, put = bs_call_put(year_difference, S, K, sd)\n",
    "        output.append([call, put])\n",
    "        # print((call, put))\n",
    "        \n",
    "    return output"
   ]
  },
  {
   "cell_type": "markdown",
   "metadata": {},
   "source": [
    "Function estimate_call_put will take in the raw option dataset and the HV to estimate option prices. It will return a list of estimated calls and puts prices."
   ]
  },
  {
   "cell_type": "code",
   "execution_count": null,
   "metadata": {},
   "outputs": [],
   "source": [
    "# Evaluate how accurate my estimation is\n",
    "def check_estimation(est, raw, start=1, end=0, plot=0):\n",
    "    # parameters:\n",
    "        # est - estimated call & put prices\n",
    "        # raw - raw_data (including header)\n",
    "        # start - starting row\n",
    "        # end - ending row\n",
    "    r = len(raw)\n",
    "    diff_table = []\n",
    "    perc_table = []\n",
    "    est_l = []\n",
    "    act_l = []\n",
    "    for i in range(start, r):\n",
    "        if i >= end and end != 0:\n",
    "            break\n",
    "        act_i = float(raw[i][5])\n",
    "        act_l.append(act_i)\n",
    "        if raw[i][12] == 'C':\n",
    "            est_i = float(est[i-start][0])\n",
    "            abs_diff = abs(act_i-est_i)\n",
    "            diff_table.append(abs_diff)\n",
    "            perc_table.append(abs_diff/act_i)\n",
    "            est_l.append(est_i)\n",
    "        elif raw[i][12] == 'P':\n",
    "            est_i = float(est[i-start][1])\n",
    "            abs_diff = abs(est_i - act_i)\n",
    "            diff_table.append(abs_diff)\n",
    "            perc_table.append(abs_diff/act_i)\n",
    "            est_l.append(est_i)\n",
    "        else:\n",
    "            print(\"Neither C or P detected at i = \" + str(i))\n",
    "\n",
    "    # Print average absolute difference and percentage difference\n",
    "    num = 0\n",
    "    if (end == 0):\n",
    "        num = r - start\n",
    "    else:\n",
    "        num = end - start\n",
    "    avg_abs_diff = sum(diff_table)/num\n",
    "    avg_perc_diff = sum(perc_table)/num\n",
    "    print(\"Average absolute error is \" + str(avg_abs_diff))\n",
    "    print(\"Average percentage error is \" + str(avg_perc_diff))\n",
    "    global BEST\n",
    "    if BEST > avg_perc_diff:\n",
    "        BEST = avg_perc_diff\n",
    "    print(\"Best result: \" + str(BEST))\n",
    "\n",
    "    # Plot Dots vs Linear\n",
    "    if plot:\n",
    "        plt.scatter(est_l, act_l)\n",
    "        plt.plot([1],[1])\n",
    "        plt.xlabel('estimated data')\n",
    "        plt.ylabel('actual data')\n",
    "        plt.show()\n",
    "\n",
    "    return avg_abs_diff, avg_perc_diff"
   ]
  },
  {
   "cell_type": "markdown",
   "metadata": {},
   "source": [
    "Function check_estimation will tell us the average absolute difference and average percentage difference of our estimated option prices using HV. We can also plot a graph showing the distribution of estimated option prices against the actual prices in scatter."
   ]
  },
  {
   "cell_type": "code",
   "execution_count": null,
   "metadata": {},
   "outputs": [],
   "source": [
    "report = [['First Period', 'last Period', 'Risk Free Rate', 'Estimated Volatility', 'Avg Abs Err', 'Avg Perc Err']]\n",
    "\n",
    "len_hp = len(raw_hp)\n",
    "rate = RATE\n",
    "\n",
    "for i in range(1, len_hp, 20):\n",
    "    k = 2045   # fix to the last day\n",
    "    # print(i, k)\n",
    "    # Estimate volatility using data from i to k\n",
    "    print(\"Using rate = \" + str(RATE))\n",
    "    print(\"Using data from \" + raw_hp[i][0] + \" to \" + raw_hp[k][0])\n",
    "    volatility = get_volatility(raw_hp, start=i, end=k)\n",
    "    call_put_table = estimate_call_put(raw_data, volatility)\n",
    "    avg_abs_err, avg_perc_err = check_estimation(call_put_table, raw_data)\n",
    "    report.append([raw_hp[i][0], raw_hp[k][0], RATE, volatility, avg_abs_err, avg_perc_err])\n",
    "\n",
    "for i in range(1995, 2045):\n",
    "    # k = len_hp - j - 1\n",
    "    k = 2045   # fix to the last day\n",
    "    # Estimate volatility using data from i to k\n",
    "    print(\"Using rate = \" + str(RATE))\n",
    "    print(\"Using data from \" + raw_hp[i][0] + \" to \" + raw_hp[k][0])\n",
    "    volatility = get_volatility(raw_hp, start=i, end=k)\n",
    "    call_put_table = estimate_call_put(raw_data, volatility)\n",
    "\n",
    "    avg_abs_err, avg_perc_err = check_estimation(call_put_table, raw_data)\n",
    "    report.append([raw_hp[i][0], raw_hp[k][0], RATE, volatility, avg_abs_err, avg_perc_err])"
   ]
  },
  {
   "cell_type": "markdown",
   "metadata": {},
   "source": [
    "We check HV of different periods. The results of HV estimation and evaluation are stored in [../report/report_HV_assessment.csv](../report/report_HV_assessment.csv)."
   ]
  },
  {
   "cell_type": "code",
   "execution_count": null,
   "metadata": {},
   "outputs": [],
   "source": [
    "write_report_into_file(report, \"report_HV_assessment.csv\")"
   ]
  },
  {
   "cell_type": "markdown",
   "metadata": {},
   "source": [
    "Write the report generated above into a csv file. "
   ]
  },
  {
   "cell_type": "markdown",
   "metadata": {},
   "source": [
    "### Concluson of Historical Volatility"
   ]
  },
  {
   "cell_type": "markdown",
   "metadata": {},
   "source": [
    "Among all obtained HV, the best result gives average percentage error at 23.5%, which is not a satisfactory result. \n",
    "\n",
    "HV is not accurate as expected since the volatility is very volatile itself. It could vary every second. It is indeed stochastic. Thus, using historical data in the past days or months is not a good idea to approximate volatility."
   ]
  },
  {
   "cell_type": "markdown",
   "metadata": {},
   "source": [
    "## Part IV. Implied Volatility"
   ]
  },
  {
   "cell_type": "markdown",
   "metadata": {},
   "source": [
    "As we have shown in Part III that volatility is so volatile that using data in a long period time in the past is not a good idea, we believe using data in a short time period that is very close to the trade time would give us a more accurate estimation of volatility, and thus, a more accurate estimation of option prices."
   ]
  },
  {
   "cell_type": "markdown",
   "metadata": {},
   "source": [
    "The idea of Implied Volatility (IV) method is to use the exisiting option information to obtain the volatility of each option through inverse Black-Scholes formula and use them to estimate the volatility and calculate the option price. If we want to estimate the price of an option, we will select existing options with the same maturity (ideal case), obtain IV of these options and interpolate a graph with IV against K. We can use this graph to estimate the volatility according to the K of this particular option and plug it into the Black-Scholes formula and calculate the option price. Since volatility is very volatile and it is not constant across strike prices nor over time, we will need to interpolate each graph for each particular option."
   ]
  },
  {
   "cell_type": "markdown",
   "metadata": {},
   "source": [
    "### Establish IV Table"
   ]
  },
  {
   "cell_type": "markdown",
   "metadata": {},
   "source": [
    "The idea procedure to estimate option price using IV will be to select the suitable existing options before calculate their IV. As such, we will be able to estimate the price of a desired option in the shortest time period. However, in order to save time in later mass performance assessment, we calculate the IV of all options in advance since each option will be used in estimating multiple \"future\" options."
   ]
  },
  {
   "cell_type": "code",
   "execution_count": null,
   "metadata": {},
   "outputs": [],
   "source": [
    "# Returns a table of implied volatility\n",
    "def create_iv_csv(raw):\n",
    "    # parameters:\n",
    "        # raw - raw_data (including header)\n",
    "    output = [[0]]\n",
    "    r = len(raw)\n",
    "    for i in range(1, r):\n",
    "        # Option type\n",
    "        opt_t = raw[i][12]\n",
    "        oc = 1\n",
    "\n",
    "        # Set up constants\n",
    "        # Option price\n",
    "        opt_p = float(raw[i][5])\n",
    "        # Strike price\n",
    "        k = float(raw[i][11])\n",
    "        # Initial stock price\n",
    "        s = float(raw[i][26])\n",
    "        # Period\n",
    "        raw_trade = raw[i][3]\n",
    "        raw_expire = raw[i][10]\n",
    "        h = get_maturity(raw_trade, raw_expire)\n",
    "\n",
    "        # # Set up BS to obtain N(d1) and N(d2)\n",
    "        # # Fact1: N(d1) and N(d2) takes value from 0 to 1\n",
    "        # # Fact2: N(d1) > N(d2)\n",
    "        # # Thus, I will initialize N(d1) as 1 and lessen it accordingly to see what's the pattern\n",
    "        # Nd1 = 0.92\n",
    "        if (opt_t == 'P'):\n",
    "            oc = 0\n",
    "\n",
    "        # Estimate volatility using brute force (GD)\n",
    "        i_sd = 0.01\n",
    "        gap = 0.1\n",
    "        count = 1\n",
    "        while 1:\n",
    "            i_c, i_p = bs_call_put(h, s, k, i_sd)\n",
    "            if oc:\n",
    "                if i_c > opt_p:\n",
    "                    i_sd = i_sd - gap\n",
    "                    gap = gap * 0.1\n",
    "                    count = count + 1\n",
    "            else:\n",
    "                if i_p > opt_p:\n",
    "                    i_sd = i_sd - gap\n",
    "                    gap = gap * 0.1\n",
    "                    count = count + 1\n",
    "            if count == 16:\n",
    "                output.append([i_sd])\n",
    "                break\n",
    "            i_sd = i_sd + gap\n",
    "    return output"
   ]
  },
  {
   "cell_type": "markdown",
   "metadata": {},
   "source": [
    "Function create_iv_csv will return a list of IV of each option. The result IV table is saved at [\"../data/IV.csv\"](../data/IV.csv). The existing version of IV table will have 3 extra columns which will no longer be used."
   ]
  },
  {
   "cell_type": "markdown",
   "metadata": {},
   "source": [
    "### Estimate an Option Price using IV"
   ]
  },
  {
   "cell_type": "markdown",
   "metadata": {},
   "source": [
    "Now we have obtained IV of each option. In this section, we will show how to use this IV table to produce an estimation of option price. Due to the lack of data, we will not estimate the price of options traded at 9:30."
   ]
  },
  {
   "cell_type": "code",
   "execution_count": null,
   "metadata": {},
   "outputs": [],
   "source": [
    "def convert_input(time='-1', k='-1', p='-1'):\n",
    "    # parameters:\n",
    "        # time - time string\n",
    "        # k - strike price string\n",
    "        # p - expiration date string\n",
    "    \n",
    "    # Validate input\n",
    "    try:\n",
    "        k = float(k)\n",
    "    except:\n",
    "        k = -1\n",
    "    try:\n",
    "        tm = datetime.strptime(time,'%H:%M:%S.%f')\n",
    "    except:\n",
    "        print (\"Error (Time):\", sys.exc_info()[0])\n",
    "        tm = -1\n",
    "    try:\n",
    "        p = get_maturity(DATE, p)\n",
    "    except:\n",
    "        p = -1\n",
    "    return tm, k, p"
   ]
  },
  {
   "cell_type": "markdown",
   "metadata": {},
   "source": [
    "Function convert_input serves to take in raw inputs from data and return easy-to-use data. It converts time string into datetime format in Python. It converts K from string to float. It also calculates the maturity period in number of years."
   ]
  },
  {
   "cell_type": "code",
   "execution_count": null,
   "metadata": {},
   "outputs": [],
   "source": [
    "def build_database(raw, iv, tm, interval=1):\n",
    "    # parameters:\n",
    "        # raw - raw_data (including header)\n",
    "        # iv - iv_table (including header)\n",
    "        # tm - time of option trade - interval\n",
    "        # interval - the interval (in minutes) which data in the past will be added to database\n",
    "        \n",
    "    tm2 = tm + timedelta(minutes=interval)\n",
    "\n",
    "    # Handle overflow\n",
    "    start_time = datetime.strptime(\"9:30\", \"%H:%M\")\n",
    "    if (tm - start_time).total_seconds() < 0:\n",
    "        tm = start_time\n",
    "    if (tm2 - start_time).total_seconds() < 0:\n",
    "        # Time given before 9:30AM. Not valid\n",
    "        return [[-1,-1,-1,-1,-1,-1,-1]]\n",
    "\n",
    "    # Extract useful data based on input to build a temporary database\n",
    "    database = []\n",
    "    # Format of database:\n",
    "        # 0. Option Trade Price\n",
    "        # 1. Option Maturity/Period (Expiration Date - Trade Date) (in term of year)\n",
    "        # 2. Strike Price\n",
    "        # 3. Call or Put\n",
    "        # 4. Price of Underlying Asset\n",
    "        # 5. Implied Volatility (Standard Deviation)\n",
    "        # 6. Time in datetime\n",
    "    size = len(iv)\n",
    "    for i in range(1, size):\n",
    "        this_time = datetime.strptime(raw[i][27], \"%H:%M:%S.%f\")\n",
    "        if (this_time-tm).total_seconds() >= 0:\n",
    "            if (tm2-this_time).total_seconds() > 0:\n",
    "                if float(iv[i][0]) > 0.05:\n",
    "                    database.append([float(raw[i][5]),                      # [0]Option Trade Price\n",
    "                                     get_maturity(raw[i][3], raw[i][10]),   # [1]Maturity\n",
    "                                     float(raw[i][11]),                     # [2]Strike Price\n",
    "                                     raw[i][12],                            # [3]Put or Call\n",
    "                                     float(raw[i][26]),                     # [4]Stock Price\n",
    "                                     float(iv[i][0]),                       # [5]Implied Volatility (sd)\n",
    "                                     this_time                              # [6]Time in datetime\n",
    "                                    ])\n",
    "                else:\n",
    "                    continue\n",
    "            else:\n",
    "                break\n",
    "\n",
    "    return database"
   ]
  },
  {
   "cell_type": "markdown",
   "metadata": {},
   "source": [
    "Function build_database will return a database containing limited amount of option data that are useful and relevant to the target option."
   ]
  },
  {
   "cell_type": "code",
   "execution_count": null,
   "metadata": {},
   "outputs": [],
   "source": [
    "def single_iv_estimation_svr(raw, iv, tm, kk, pp, plot=1, method=\"svr\"):\n",
    "    # parameters:\n",
    "        # raw - raw_data (including header)\n",
    "        # iv - iv_table (including header)\n",
    "        # tm - time of the option trade\n",
    "        # kk - strike price of the option\n",
    "        # pp - maturity of the option\n",
    "        # method - use svr or kr\n",
    "        \n",
    "    # Extract database - clean data\n",
    "    timer_start = time.time()\n",
    "    database_f = []\n",
    "    left_bound_ind = 0\n",
    "    right_bound_ind = 0\n",
    "    while len(database_f) < 10 or not left_bound_ind or not right_bound_ind:\n",
    "        if len(database_f) > 200:\n",
    "            break\n",
    "        tm = tm - timedelta(minutes=2)\n",
    "        database_5 = build_database(raw, iv, tm, 2)\n",
    "\n",
    "        if len(database_5) == 0:\n",
    "            continue\n",
    "        if database_5[0][0] == -1:\n",
    "            break\n",
    "\n",
    "        # Fix Underlying Asset Price\n",
    "        uap_list = []\n",
    "        MAX = 0\n",
    "        MIN = 10000000\n",
    "        for row in database_5:\n",
    "            uap_list.append(row[4])\n",
    "        current_price = statistics.median(uap_list)\n",
    "        \n",
    "        # Filter data based on maturity\n",
    "        current_maturity = pp\n",
    "        for row in database_5:\n",
    "            if row[1] == current_maturity:\n",
    "                database_f.append(row)\n",
    "                if row[2] < kk:\n",
    "                    left_bound_ind = 1\n",
    "                elif row[2] > kk:\n",
    "                    right_bound_ind = 1\n",
    "    write_log(\"database_f size: \", len(database_f))\n",
    "    if len(database_f) < 10:\n",
    "        return -1, -1\n",
    "\n",
    "    # Fit a smile curve based on prepared database_f using SVR/KR\n",
    "    if method==\"svr\":\n",
    "        svr = GridSearchCV(SVR(kernel='rbf'), cv=3,\n",
    "                       param_grid={\n",
    "                                    \"C\": [1e4],\n",
    "                                   'epsilon':[0.0005],\n",
    "                                   \"gamma\": [1e-4, 1e-5, 1e-6]\n",
    "                                   })\n",
    "\n",
    "    ##### Parameters for KR is not tuned #####\n",
    "    if method==\"kr\":\n",
    "        kr = GridSearchCV(KernelRidge(kernel='rbf'), cv=3,\n",
    "                      param_grid={\n",
    "                                  \"alpha\": [5e-2, 1e-2, 5e-3, 1e-3, 5e-4],\n",
    "                                  \"gamma\": [1e-5, 5e-5, 1e-4]\n",
    "                                  })\n",
    "    \n",
    "    # Form X - List of strike price & y - List of iv\n",
    "    X = []\n",
    "    y = []\n",
    "    for row in database_f:\n",
    "        X.append([row[2]])\n",
    "        y.append(row[5]*row[5])\n",
    "        if row[2] > MAX:\n",
    "            MAX = row[2]\n",
    "        if row[2] < MIN:\n",
    "            MIN = row[2]\n",
    "\n",
    "    if method==\"svr\":\n",
    "        svr.fit(X, y)\n",
    "    elif method==\"kr\":\n",
    "        kr.fit(X, y)\n",
    "    if method == 'svr':\n",
    "        write_log(\"Estimation Model: SVR\")\n",
    "        write_log(\"Best parameters:\", svr.best_params_)\n",
    "        write_log(\"Best score:\", svr.best_score_)\n",
    "    elif method == 'kr':\n",
    "        write_log(\"Estimation Model: KR\")\n",
    "        write_log(\"Best parameters:\", kr.best_params_)\n",
    "        write_log(\"Best score:\", kr.best_score_)\n",
    "\n",
    "    # Plot\n",
    "    if plot:\n",
    "        X_plot = np.linspace(80, 340, 260)[:, None]\n",
    "        if method==\"svr\":\n",
    "            y_svr = svr.predict(X_plot)\n",
    "            plt.plot(X_plot, y_svr, c='r', label='fit: SVR')\n",
    "        elif method==\"kr\":\n",
    "            y_kr = kr.predict(X_plot)\n",
    "            plt.plot(X_plot, y_kr, c='grey', label='fir: KR')\n",
    "        plt.scatter(X, y, s=5, label='Actual Data')\n",
    "        plt.xlabel('Strike Price (K)')\n",
    "        plt.ylabel('Implied Volatility (σ^2)')\n",
    "        plt.legend()\n",
    "        plt.show()\n",
    "\n",
    "    if method==\"svr\":\n",
    "        est_vol = svr.predict([[kk]])\n",
    "    elif method==\"kr\":\n",
    "        est_vol = kr.predict([[kk]])\n",
    "    if est_vol[0] < 0:\n",
    "        return -2, -2\n",
    "    est_sd = sqrt(est_vol[0])\n",
    "\n",
    "    timer_stop = time.time()\n",
    "\n",
    "    est_call, est_put = bs_call_put(current_maturity, current_price, kk, est_sd)\n",
    "    write_log(\"Time used:\", str(timer_stop-timer_start), \"seconds\")\n",
    "    write_log(\"The estimated implied volatility = \", est_vol)\n",
    "    write_log(\"The estimated standard deviation = \", est_sd)\n",
    "    write_log(\"The estimated Call option price = \", est_call)\n",
    "    write_log(\"The estimated Put option price  = \", est_put)\n",
    "    return est_call, est_put"
   ]
  },
  {
   "cell_type": "markdown",
   "metadata": {},
   "source": [
    "Function single_iv_estimation_svr estimates the option price (both call and put) with the given input. This function gives estimation of option price using IV method in the following procedure:\n",
    "1. Build a database including data in the past 2 minutes use function build_database.\n",
    "2. From the obtained database, select data that has the same maturity to database_f. If there is not enough data added to database_f, build another database using data in the previous 2 minutes. Iterate until the database_f has enough data or we run out of data. \n",
    "3. After building database_f, we use this database to interpolate the \"smile curve\". We use the Support Vector Regression (SVR) with Radial Basis Function (RBF) kernel to fit the curve to data points (K, $\\sigma$). We also use GridSearchCV to do 3-fold cross validation to ensure we obtain the best fit of the data.\n",
    "4. By plugging the strike price of the target option into the interpolated \"smile curve\", we obtain the volatility of the that option. Then we plug this volatility into the Black-Scholes formula to obtain the estimated option prices using the function bs_call_put defined earlier. \n",
    "5. We also used a timer to record the time required to estimate the option price using IV method.\n",
    "6. The plot function is reserved. We can simply change the input of the function to enable plotting.\n",
    "\n",
    "(We can also use Kernel Bridge (KR) to fit the curve but I have not found optimal parameters to interpolate a good curve. Currently SVR gives a better interpolation.)"
   ]
  },
  {
   "cell_type": "markdown",
   "metadata": {},
   "source": [
    "### Evaluation of IV"
   ]
  },
  {
   "cell_type": "markdown",
   "metadata": {},
   "source": [
    "We just showed how to use the IV method to estimate the option price. Now we want to assess the performance of this method. We will use the function single_iv_estimation_svr to estimate the option price for each option traded from 9:31 onwards on 3/20/2018 and compare the estimated price with the actual price."
   ]
  },
  {
   "cell_type": "code",
   "execution_count": null,
   "metadata": {},
   "outputs": [],
   "source": [
    "def mass_iv_assessment_svr(raw, iv, plot=0, specific=-1, method=\"svr\"):\n",
    "    # parameters:\n",
    "        # raw - raw_data (including header)\n",
    "        # iv - iv_table (including header)\n",
    "        # plot - plot=1, default=0\n",
    "        # specific - assess performance for a specific option, usually used in handling abnormal data and large difference data\n",
    "        # method - svr or kr\n",
    "        \n",
    "    diff_table = []\n",
    "    perc_table = []\n",
    "    diff_call_table = []\n",
    "    diff_put_table = []\n",
    "    large_diff_table = [[\"Index\", \"Percentage Error\", \"Type\", \"Estimated Option Price\", \"Actual Option Price\"]]\n",
    "    abnormal_table = []\n",
    "    perc_err_table = [[\"index\", \"Percentage Error\"]]\n",
    "    cumm_perc_err_table = [[\"Index\", \"Cumulative Percentage Error\"]]\n",
    "\n",
    "    for i in range(1, size): \n",
    "        if specific != -1:\n",
    "            i = specific\n",
    "            plot = 1\n",
    "        write_log(i, iv[i])\n",
    "        write_log(raw[i])\n",
    "        if iv[i][1] == '9' and iv[i][2] == '30':\n",
    "            write_log(\"9:30 detected\")\n",
    "            continue\n",
    "        # Ignore those with volatility < 0 (Abnormal data)\n",
    "        if float(iv[i][0]) < 0:\n",
    "            continue\n",
    "\n",
    "        tm, kk, pp = convert_input(raw[i][25], raw[i][11], raw[i][10])\n",
    "        option_type = raw[i][12]\n",
    "\n",
    "        est_call, est_put = single_iv_estimation_svr(raw, iv, tm, kk, pp, plot=plot, method=method)\n",
    "        if est_call == -1 and est_put == -1:\n",
    "            write_log(\"Not enough data to predict option price.\")\n",
    "            abnormal_table.append(i)\n",
    "            continue\n",
    "        elif est_call == -2 and est_put == -2:\n",
    "            write_log(\"Negative iv detected\")\n",
    "            abnormal_table.append(i)\n",
    "            continue\n",
    "\n",
    "        actual_price = float(raw[i][5])\n",
    "        write_log(\"Actual Option:\", option_type, actual_price)\n",
    "        diff = 0\n",
    "        if option_type == 'C':\n",
    "            diff = abs(est_call - actual_price)\n",
    "            diff_call = est_call - actual_price\n",
    "            diff_call_table.append(diff)\n",
    "        elif option_type == 'P':\n",
    "            diff = abs(est_put - actual_price)\n",
    "            diff_put = est_put - actual_price\n",
    "            diff_put_table.append(diff)\n",
    "        else:\n",
    "            write_log(\"Option Type Error: \", option_type)\n",
    "            continue\n",
    "        diff_table.append(diff)\n",
    "        perc_table.append(diff/actual_price)\n",
    "        if diff/actual_price > 0.10:\n",
    "            if option_type == 'C':\n",
    "                large_diff_table.append([i, diff/actual_price, option_type, est_call, actual_price])\n",
    "            if option_type == 'P':\n",
    "                large_diff_table.append([i, diff/actual_price, option_type, est_put, actual_price])\n",
    "\n",
    "        write_log(\"Perc diff is \", diff/actual_price)\n",
    "        perc_err_table.append([i, diff/actual_price])\n",
    "        write_log(\"Cumulative Avg Perc Diff =\", sum(perc_table)/len(diff_table))\n",
    "        cumm_perc_err_table.append([i, sum(perc_table)/len(diff_table)])\n",
    "\n",
    "        if specific != -1:\n",
    "            break\n",
    "\n",
    "    size = len(diff_table)\n",
    "    avg_abs_diff = sum(diff_table)/size\n",
    "    avg_perc_diff = sum(perc_table)/size\n",
    "    avg_diff_call = 0\n",
    "    avg_diff_put = 0\n",
    "    if len(diff_call_table) != 0:\n",
    "        avg_diff_call = sum(diff_call_table)/len(diff_call_table)\n",
    "    if len(diff_put_table) != 0:\n",
    "        avg_diff_put = sum(diff_put_table)/len(diff_put_table)\n",
    "    write_log(\"Large Difference Table\")\n",
    "    write_log(large_diff_table)\n",
    "    write_report_into_file(large_diff_table, \"large_diff_table.csv\")\n",
    "    write_log(\"\\n\\n\\nAbnormal Table\")\n",
    "    abnormal_table = list(map(lambda x: [x], abnormal_table))\n",
    "    write_log(abnormal_table)\n",
    "    write_report_into_file(abnormal_table, \"abnormal_table.csv\")\n",
    "    write_log(\"Average absolute error is \" + str(avg_abs_diff))\n",
    "    write_log(\"Average percentage error is \" + str(avg_perc_diff))\n",
    "    write_log(\"Average (est_call_5 - actual_price) = \", avg_diff_call)\n",
    "    write_log(\"Average (est_put_5 - actual_price) = \", avg_diff_put)\n",
    "\n",
    "    write_report_into_file(perc_err_table, \"perc_error_table.csv\")\n",
    "    write_report_into_file(cumm_perc_err_table, \"cumm_perc_err_table.csv\")"
   ]
  },
  {
   "cell_type": "markdown",
   "metadata": {},
   "source": [
    "Then simply set parameters for this function and run it for all data we have."
   ]
  },
  {
   "cell_type": "code",
   "execution_count": null,
   "metadata": {},
   "outputs": [],
   "source": [
    "# Assess the accuracy of current IV method (SVR/KR)\n",
    "METHOD = \"svr\"\n",
    "DATE = raw_data[1][3]\n",
    "write_log(\"Date is \", DATE)\n",
    "mass_iv_assessment_svr(raw_data, iv_list, plot=0, method=METHOD)"
   ]
  },
  {
   "cell_type": "markdown",
   "metadata": {},
   "source": [
    "There are certain data that we cannot obtain a valid value for IV. This is normal since Black-Scholes formula is just a model to estimate the option pricing. It will always be wrong in actual world when the assumptions of the formula fails. We store these option data in the [Abnormal Table](../report-Backup/abnormal_table.csv). \n",
    "\n",
    "We also take note of option data that deviates largely ($\\ge$10%). We store these option data in the [Large Difference Table](../report-Backup/large_diff_table.csv).\n",
    "\n",
    "The full log of this evaluation process can be viewed at [../log/log-Backup.txt](../log/log-Backup.txt)."
   ]
  },
  {
   "cell_type": "markdown",
   "metadata": {},
   "source": [
    "The bars represent the percentage error of each option. The red dotted line represents the trend of cumulative percentage error.\n",
    "![alt text](../report-Backup/Figure_1.png)\n",
    "From the graph, we can tell that options traded at the start of trading hours are estimated poorly. The subsequent estimations are more accurate."
   ]
  },
  {
   "cell_type": "markdown",
   "metadata": {},
   "source": [
    "### Conclusion of IV"
   ]
  },
  {
   "cell_type": "markdown",
   "metadata": {},
   "source": [
    "Overall, we obtain an average percentage error of 4.53%, which is much better than the result we obtained earlier during evaluation of HV (23.5%). \n",
    "\n",
    "We also do not need a long time to estimate through IV. Most option pricing results can be obtained within 1 second.\n",
    "\n",
    "This proves that IV is a much stronger estimation method compared to HV."
   ]
  },
  {
   "cell_type": "markdown",
   "metadata": {},
   "source": [
    "## Conclusion"
   ]
  },
  {
   "cell_type": "markdown",
   "metadata": {},
   "source": [
    "We present 2 ways of option price estimation. It is obvious that IV is more accurate than HV. This clearly proves that volatility is not constant across strike prices nor over time. Old data of volatility have little value in estimating current volatility. \n",
    "\n",
    "This can also be further proven by the \"Fear Index\" where the fluctuation of the implied volatility over time is completely random. "
   ]
  },
  {
   "cell_type": "code",
   "execution_count": null,
   "metadata": {},
   "outputs": [],
   "source": [
    "# Clean up\n",
    "write_log(\"Task done. Exiting main function...\")\n",
    "logg.close()"
   ]
  },
  {
   "cell_type": "markdown",
   "metadata": {},
   "source": [
    "Finally, we close the log file and exit gracefully."
   ]
  }
 ],
 "metadata": {
  "kernelspec": {
   "display_name": "Python 3",
   "language": "python",
   "name": "python3"
  },
  "language_info": {
   "codemirror_mode": {
    "name": "ipython",
    "version": 3
   },
   "file_extension": ".py",
   "mimetype": "text/x-python",
   "name": "python",
   "nbconvert_exporter": "python",
   "pygments_lexer": "ipython3",
   "version": "3.7.2"
  }
 },
 "nbformat": 4,
 "nbformat_minor": 2
}
