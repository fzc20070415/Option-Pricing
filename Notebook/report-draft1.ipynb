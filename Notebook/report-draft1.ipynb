{
 "cells": [
  {
   "cell_type": "markdown",
   "metadata": {},
   "source": [
    "# Math 164 Project 1 Report - Option Pricing"
   ]
  },
  {
   "cell_type": "markdown",
   "metadata": {},
   "source": [
    "### We want to analyze the dynamics of underlying security price. \n",
    "### We will use the Black-Scholes Formula to estimate the European call/put option price with historical volatility and implied volatility respectively."
   ]
  },
  {
   "cell_type": "markdown",
   "metadata": {},
   "source": [
    "## Part I. Black-Scholes Formula"
   ]
  },
  {
   "cell_type": "markdown",
   "metadata": {},
   "source": [
    "The Black-Scholes formula is a simple way to estimate the option price with the given maturity ($T$), strike price ($K$), current stock price ($S_0$), interest rate (risk-free rate) ($r$), dividend rate ($\\delta$) and volatility ($\\sigma^2$). In this project, we assume divident rate, $\\delta=0$ for simplicity.\n",
    "\n",
    "Thus, we will use the following Black-Scholes formulas in this project to estimate option prices:\n",
    "\n",
    "Call Option:\n",
    "\\begin{equation}\n",
    "C=S_0N(d_1)-Ke^{-rT}N(d_2)\n",
    "\\end{equation}\n",
    "\n",
    "Put Option:\n",
    "\\begin{equation}\n",
    "P=Ke^{-rT}N(-d_2)-S_0N(-d_1)\n",
    "\\end{equation}\n",
    "\n",
    "where\n",
    "\\begin{equation}\n",
    "d_1=\\frac{ln(\\frac{S_0}{K})+(r+\\frac{1}{2}\\sigma^2)T}{\\sigma\\sqrt{T}}\\\\\n",
    "d_2=d_1-\\sigma\\sqrt{T}\n",
    "\\end{equation}\n",
    "\n",
    "From Yahoo Finance, we can easily obtain all of the required information except volatility. Thus, the goal of this project is to assess the accuracy of option price estimation using various volatility estimating methods."
   ]
  },
  {
   "cell_type": "markdown",
   "metadata": {},
   "source": [
    "## Part II. Preparation"
   ]
  },
  {
   "cell_type": "markdown",
   "metadata": {},
   "source": [
    "We will be using the data of options of Apple Inc traded on March 20, 2018 for this project. We obtain this dataset from Yahoo Finance.\n",
    "\n",
    "From treasury.gov, we use the value of Treasury 20-Yr CMT on March 20, 2018 as the interest rate. i.e. $r=3.01\\%$"
   ]
  },
  {
   "cell_type": "markdown",
   "metadata": {},
   "source": [
    "### Preparation"
   ]
  },
  {
   "cell_type": "code",
   "execution_count": 3,
   "metadata": {},
   "outputs": [],
   "source": [
    "import numpy as np\n",
    "import scipy.stats\n",
    "from math import *\n",
    "import csv\n",
    "from datetime import datetime\n",
    "import matplotlib.pyplot as plt\n",
    "import sys\n",
    "from scipy.optimize import curve_fit\n",
    "import statistics\n",
    "import time\n",
    "from sklearn.svm import SVR\n",
    "from sklearn.model_selection import GridSearchCV\n",
    "from sklearn.model_selection import learning_curve\n",
    "from sklearn.kernel_ridge import KernelRidge"
   ]
  },
  {
   "cell_type": "markdown",
   "metadata": {},
   "source": [
    "To start the project, we import all dependencies needed. We will be using sci-kit learn to approximate graphs in Part IV. Implied Volatility."
   ]
  },
  {
   "cell_type": "code",
   "execution_count": 4,
   "metadata": {},
   "outputs": [],
   "source": [
    "### GLOBAL VARIABLES ###\n",
    "# We set risk-free rate at 3.01%. Data obtained from treasury.gov, using Treasury 20-yr CMT\n",
    "RATE = 0.0301\n",
    "DAY = 365\n",
    "BEST = 1\n",
    "DATE = '0-0-0'\n",
    "DATE = '3/20/2018'   ### DEBUG ###\n",
    "PT_NUM = 10"
   ]
  },
  {
   "cell_type": "markdown",
   "metadata": {},
   "source": [
    "We introduce some global variables. Clearly, the risk free rate is constant throughout. We set the total days in a year as 365. We can also use 261, which is the total number of calendar working days in 2018. This number will not have a noticeable influence to our result. DATE is initialized for convenience. PT_NUM is a parameter indicating the minimum number of points required for Implied Volatlity estimation in Part IV."
   ]
  },
  {
   "cell_type": "code",
   "execution_count": 6,
   "metadata": {},
   "outputs": [],
   "source": [
    "# Load historical option data on 2018/3/2\n",
    "with open(\"../data/AAPL_032018.csv\") as data:\n",
    "    data_reader = csv.reader(data)\n",
    "    raw_data = list(data_reader)\n",
    "\n",
    "# Load historical price\n",
    "with open(\"../data/AAPL_HP.csv\") as data:\n",
    "    data_reader = csv.reader(data)\n",
    "    raw_hp = list(data_reader)"
   ]
  },
  {
   "cell_type": "markdown",
   "metadata": {},
   "source": [
    "AAPL_032018.csv stores the details of options traded on 3/22/2018. \n",
    "\n",
    "AAPL_HP.csv stores the historical stock prices of Apple Inc. We import these 2 tables."
   ]
  },
  {
   "cell_type": "markdown",
   "metadata": {},
   "source": [
    "## Part III. Historical Volatility"
   ]
  },
  {
   "cell_type": "markdown",
   "metadata": {},
   "source": [
    "In this section, we assume volatility is constant throughout the day for all options. We will estimate the volatility on March 20, 2018 by learning the historical stock prices of Apple Inc. \n",
    "\n",
    "We use MLE to calculate the volatility of the day:\n",
    "\\begin{equation}\n",
    "\\bar{\\sigma}^2=\\frac{1}{n}\\sum_{t=1}^n(R_t-\\bar{R})^2\n",
    "\\end{equation}\n",
    "where\n",
    "\\begin{equation}\n",
    "R_t=log(\\frac{S_t}{S_{t-1}})\n",
    "\\end{equation}"
   ]
  },
  {
   "cell_type": "markdown",
   "metadata": {},
   "source": [
    "### Estimate Historical Volatility (HV)"
   ]
  },
  {
   "cell_type": "code",
   "execution_count": 9,
   "metadata": {},
   "outputs": [],
   "source": [
    "# Calculate average R_t in the given data\n",
    "def average_volatility(raw, start=1, end=0):\n",
    "    # parameter:\n",
    "        # raw - matrix of history price\n",
    "    r = len(raw)\n",
    "    count = 0\n",
    "    # print(\"Number of records = \" + str(r))\n",
    "    sum = 0\n",
    "    for i in range (start + 1, r):\n",
    "        # if i <= start:\n",
    "        #     continue\n",
    "        if end != 0 and i > end:\n",
    "            break\n",
    "        p1 = float(raw[i-1][4])\n",
    "        p2 = float(raw[i][4])\n",
    "        temp1 = log(p2/p1)\n",
    "        # print(temp1)\n",
    "        sum = sum + temp1\n",
    "        count = count + 1\n",
    "    avg = sum/count\n",
    "    # print(\"Sum is \" + str(sum))\n",
    "    # print(\"Avg is \" + str(avg))\n",
    "    return avg"
   ]
  },
  {
   "cell_type": "markdown",
   "metadata": {},
   "source": [
    "Function average_volatility will return $\\bar{R}$ which is required to calculate historical volatility."
   ]
  },
  {
   "cell_type": "code",
   "execution_count": 8,
   "metadata": {},
   "outputs": [],
   "source": [
    "# Calculate estimated variance - volatility\n",
    "def get_volatility(raw, start=1, end=0):\n",
    "    # parameter:\n",
    "        # raw - matrix of history price (including header)\n",
    "    r = len(raw)\n",
    "    sum = 0\n",
    "    count = 0\n",
    "    avg = average_volatility(raw, start=start, end=end)\n",
    "    for i in range(start+1, r):\n",
    "        if end != 0 and i > end:\n",
    "            break\n",
    "        p1 = float(raw[i-1][4])\n",
    "        p2 = float(raw[i][4])\n",
    "        temp1 = log(p2/p1)\n",
    "        sum = sum + temp1 * temp1\n",
    "        count = count + 1\n",
    "\n",
    "    # Use variance formula which \\sum (X-E[X])^2 = E[X^2] - E[X]^2\n",
    "    E_X2 = sum/count\n",
    "    var = E_X2 - avg * avg\n",
    "    # We times volatility of one business day with #business days\n",
    "    var = 260 * var\n",
    "    print(\"Estimated volatility is \" + str(var))\n",
    "    return var"
   ]
  },
  {
   "cell_type": "markdown",
   "metadata": {},
   "source": [
    "Function get_volatility will return $\\bar{\\sigma}^2$, which is the historical volatility (HV) that we want."
   ]
  },
  {
   "cell_type": "markdown",
   "metadata": {},
   "source": [
    "### Evaluation of HV"
   ]
  },
  {
   "cell_type": "markdown",
   "metadata": {},
   "source": [
    "After obtaining HV, we want to assess its accuracy in predicting option prices. We will plug in the calculated HV to the Black-Scholes Formula to obtain the estimated put/call option prices. We will compare these estimated results with the real results to check the accuracy of HV."
   ]
  },
  {
   "cell_type": "code",
   "execution_count": 12,
   "metadata": {},
   "outputs": [],
   "source": [
    "def get_maturity(raw_trade, raw_expire):\n",
    "    # parameter:\n",
    "        # raw_trade - trade date of the option\n",
    "        # raw_expire - expiration date of the option\n",
    "    # print(\"GET_MATURITY CALLED\", raw_trade, raw_expire)\n",
    "    trade_date = datetime.strptime(raw_trade, '%m/%d/%Y')\n",
    "    trade_days = float(datetime.strftime(trade_date, '%j')) * DAY / 365\n",
    "    trade_year = float(datetime.strftime(trade_date, '%Y'))\n",
    "    expire_date = datetime.strptime(raw_expire, '%m/%d/%Y')\n",
    "    expire_days = float(datetime.strftime(expire_date, '%j')) * DAY / 365\n",
    "    expire_year = float(datetime.strftime(expire_date, '%Y'))\n",
    "    expire_days = expire_days + (expire_year - trade_year) * DAY\n",
    "    day_difference = expire_days - trade_days\n",
    "    h = day_difference / DAY        # Length of maturity\n",
    "    return h"
   ]
  },
  {
   "cell_type": "markdown",
   "metadata": {},
   "source": [
    "Function get_maturity will return maturity in number of years."
   ]
  },
  {
   "cell_type": "code",
   "execution_count": 13,
   "metadata": {},
   "outputs": [],
   "source": [
    "# Calculate d1 and d2\n",
    "def get_d1_d2(sd, h, s, k):\n",
    "    # parameter:\n",
    "        # sd - sqrt(Volatility)\n",
    "        # h - Maturity\n",
    "        # s - Stock Price, S_0\n",
    "        # k - Strike Price, K\n",
    "    d1 = (1/(sd * sqrt(h))) * ((log(s/k)) + (RATE + ((sd * sd)/2)) * h)\n",
    "    # Use d2 = d1 - sqrt(vol) * sqrt(maturity)\n",
    "    d2 = d1 - ( sd * sqrt(h) )\n",
    "    # print(d1, d2)\n",
    "    return d1, d2"
   ]
  },
  {
   "cell_type": "markdown",
   "metadata": {},
   "source": [
    "Function get_d1_d2 will return values of d1 and d2 for Black-Scholes formula."
   ]
  },
  {
   "cell_type": "code",
   "execution_count": 14,
   "metadata": {},
   "outputs": [],
   "source": [
    "# Estimate option price using BS formula\n",
    "def bs_call_put(h, s, k, sd):\n",
    "    # parameter:\n",
    "        # h - Maturity\n",
    "        # s - Stock Price, S_0\n",
    "        # k - Strike Price, K\n",
    "        # sd - sqrt(Volatility)\n",
    "    d1, d2 = get_d1_d2(sd, h, s, k)\n",
    "    # We ignore divident here\n",
    "    N1 = scipy.stats.norm.cdf(d1)\n",
    "    N2 = scipy.stats.norm.cdf(d2)\n",
    "    call = (N1 * s) - (N2 * k * exp(- RATE * h))\n",
    "    N_1 = 1 - N1\n",
    "    N_2 = 1 - N2\n",
    "    put = (N_2 * k * exp(- RATE * h)) - (s * N_1)\n",
    "    return call, put"
   ]
  },
  {
   "cell_type": "markdown",
   "metadata": {},
   "source": [
    "Function bs_call_put will return call and put option prices with the given parameters."
   ]
  },
  {
   "cell_type": "code",
   "execution_count": 15,
   "metadata": {},
   "outputs": [],
   "source": [
    "# Calculate estimated call option price\n",
    "def estimate_call_put(raw, vol, start=1, end=0):\n",
    "    # parameters:\n",
    "        # raw - raw_data (including header)\n",
    "        # vol - estimated volatility\n",
    "        # start - starting row\n",
    "        # end - ending row\n",
    "    r = len(raw)\n",
    "    # Calculate Standard Deviation\n",
    "    sd = sqrt(vol)\n",
    "    # print(\"Standard Deviation is \" + str(sd))\n",
    "    # Obtain maturity of option\n",
    "\n",
    "    if sd == 0:\n",
    "        # If volatility is 0, call/put options will have price of 0 \n",
    "        # since future prices of stock price is fully predicatable with no risk.\n",
    "        return [[0,0]]*r\n",
    "\n",
    "    output = []\n",
    "\n",
    "    for i in range(r):\n",
    "        # Get T-t\n",
    "        if i < start:\n",
    "            continue\n",
    "        if i >= end and end != 0:\n",
    "            break\n",
    "        raw_trade = raw[i][3]\n",
    "        raw_expire = raw[i][10]\n",
    "        year_difference = get_maturity(raw_trade, raw_expire)\n",
    "        # print(\"Maturity is \" + str(year_difference))\n",
    "\n",
    "        # Get Initial Stock price\n",
    "        S = float(raw[i][26])\n",
    "        # print(\"Stock price is \" + str(S))\n",
    "\n",
    "        # Get Strike price\n",
    "        K = float(raw[i][11])\n",
    "        # print(\"Strike price is \" + str(K))\n",
    "\n",
    "        # Get call, put option premium\n",
    "        call, put = bs_call_put(year_difference, S, K, sd)\n",
    "        output.append([call, put])\n",
    "        # print((call, put))\n",
    "        \n",
    "    return output"
   ]
  },
  {
   "cell_type": "markdown",
   "metadata": {},
   "source": [
    "Function estimate_call_put will take in the raw option dataset and the HV to estimate option prices. It will return a list of estimated calls and puts prices."
   ]
  },
  {
   "cell_type": "code",
   "execution_count": 16,
   "metadata": {},
   "outputs": [],
   "source": [
    "# Evaluate how accurate my estimation is\n",
    "def check_estimation(est, raw, start=1, end=0, plot=0):\n",
    "    # parameters:\n",
    "        # est - estimated call & put prices\n",
    "        # raw - raw_data (including header)\n",
    "        # start - starting row\n",
    "        # end - ending row\n",
    "    r = len(raw)\n",
    "    diff_table = []\n",
    "    perc_table = []\n",
    "    est_l = []\n",
    "    act_l = []\n",
    "    for i in range(start, r):\n",
    "        if i >= end and end != 0:\n",
    "            break\n",
    "        act_i = float(raw[i][5])\n",
    "        act_l.append(act_i)\n",
    "        if raw[i][12] == 'C':\n",
    "            est_i = float(est[i-start][0])\n",
    "            abs_diff = abs(act_i-est_i)\n",
    "            diff_table.append(abs_diff)\n",
    "            perc_table.append(abs_diff/act_i)\n",
    "            est_l.append(est_i)\n",
    "        elif raw[i][12] == 'P':\n",
    "            est_i = float(est[i-start][1])\n",
    "            abs_diff = abs(est_i - act_i)\n",
    "            diff_table.append(abs_diff)\n",
    "            perc_table.append(abs_diff/act_i)\n",
    "            est_l.append(est_i)\n",
    "        else:\n",
    "            print(\"Neither C or P detected at i = \" + str(i))\n",
    "\n",
    "    # Print average absolute difference and percentage difference\n",
    "    num = 0\n",
    "    if (end == 0):\n",
    "        num = r - start\n",
    "    else:\n",
    "        num = end - start\n",
    "    avg_abs_diff = sum(diff_table)/num\n",
    "    avg_perc_diff = sum(perc_table)/num\n",
    "    print(\"Average absolute error is \" + str(avg_abs_diff))\n",
    "    print(\"Average percentage error is \" + str(avg_perc_diff))\n",
    "    global BEST\n",
    "    if BEST > avg_perc_diff:\n",
    "        BEST = avg_perc_diff\n",
    "    print(\"Best result: \" + str(BEST))\n",
    "\n",
    "    # Plot Dots vs Linear\n",
    "    if plot:\n",
    "        plt.scatter(est_l, act_l)\n",
    "        plt.plot([1],[1])\n",
    "        plt.xlabel('estimated data')\n",
    "        plt.ylabel('actual data')\n",
    "        plt.show()\n",
    "\n",
    "    return avg_abs_diff, avg_perc_diff"
   ]
  },
  {
   "cell_type": "markdown",
   "metadata": {},
   "source": [
    "Function check_estimation will tell us the average absolute difference and average percentage difference of our estimated option prices using HV. We can also plot a graph showing the distribution of estimated option prices against the actual prices in scatter."
   ]
  },
  {
   "cell_type": "code",
   "execution_count": null,
   "metadata": {},
   "outputs": [],
   "source": [
    "report = [['First Period', 'last Period', 'Risk Free Rate', 'Estimated Volatility', 'Avg Abs Err', 'Avg Perc Err']]\n",
    "\n",
    "len_hp = len(raw_hp)\n",
    "rate = RATE\n",
    "\n",
    "for i in range(1, len_hp, 20):\n",
    "    k = 2045   # fix to the last day\n",
    "    # print(i, k)\n",
    "    # Estimate volatility using data from i to k\n",
    "    print(\"Using rate = \" + str(RATE))\n",
    "    print(\"Using data from \" + raw_hp[i][0] + \" to \" + raw_hp[k][0])\n",
    "    volatility = get_volatility(raw_hp, start=i, end=k)\n",
    "    call_put_table = estimate_call_put(raw_data, volatility)\n",
    "    avg_abs_err, avg_perc_err = check_estimation(call_put_table, raw_data)\n",
    "    report.append([raw_hp[i][0], raw_hp[k][0], RATE, volatility, avg_abs_err, avg_perc_err])\n",
    "\n",
    "for i in range(1995, 2045):\n",
    "    # k = len_hp - j - 1\n",
    "    k = 2045   # fix to the last day\n",
    "    # Estimate volatility using data from i to k\n",
    "    print(\"Using rate = \" + str(RATE))\n",
    "    print(\"Using data from \" + raw_hp[i][0] + \" to \" + raw_hp[k][0])\n",
    "    volatility = get_volatility(raw_hp, start=i, end=k)\n",
    "    call_put_table = estimate_call_put(raw_data, volatility)\n",
    "\n",
    "    avg_abs_err, avg_perc_err = check_estimation(call_put_table, raw_data)\n",
    "    report.append([raw_hp[i][0], raw_hp[k][0], RATE, volatility, avg_abs_err, avg_perc_err])"
   ]
  },
  {
   "cell_type": "markdown",
   "metadata": {},
   "source": [
    "We check HV of different periods. The results of HV estimation and evaluation are stored in [../report/report_HV_assessment.csv](../report/report_HV_assessment.csv)."
   ]
  },
  {
   "cell_type": "code",
   "execution_count": 18,
   "metadata": {},
   "outputs": [],
   "source": [
    "with open(\"../report/report.csv\", 'w') as book:\n",
    "            wr = csv.writer(book, delimiter=',', lineterminator='\\n')\n",
    "            for row in report:\n",
    "                wr.writerow(row, )"
   ]
  },
  {
   "cell_type": "markdown",
   "metadata": {},
   "source": [
    "Write the report generated above into a csv file. (The report has already been generated and renamed.)"
   ]
  },
  {
   "cell_type": "markdown",
   "metadata": {},
   "source": [
    "### Concluson of Historical Volatility"
   ]
  },
  {
   "cell_type": "markdown",
   "metadata": {},
   "source": [
    "Among all obtained HV, the best result gives average percentage error at 23.5%, which is not a satisfactory result. \n",
    "\n",
    "HV is not accurate as expected since the volatility is very volatile itself. It could vary every second. It is indeed stochastic. Thus, using historical data in the past days or months is not a good idea to approximate volatility."
   ]
  },
  {
   "cell_type": "markdown",
   "metadata": {},
   "source": [
    "## Part IV. Implied Volatility"
   ]
  },
  {
   "cell_type": "markdown",
   "metadata": {},
   "source": [
    "As we have shown in Part III that volatility is so volatile that using data in a long period time in the past is not a good idea, we believe using data in a short time period that is very close to the trade time would give us a more accurate estimation of volatility, and thus, a more accurate estimation of option prices."
   ]
  },
  {
   "cell_type": "code",
   "execution_count": null,
   "metadata": {},
   "outputs": [],
   "source": []
  }
 ],
 "metadata": {
  "kernelspec": {
   "display_name": "Python 3",
   "language": "python",
   "name": "python3"
  },
  "language_info": {
   "codemirror_mode": {
    "name": "ipython",
    "version": 3
   },
   "file_extension": ".py",
   "mimetype": "text/x-python",
   "name": "python",
   "nbconvert_exporter": "python",
   "pygments_lexer": "ipython3",
   "version": "3.7.2"
  }
 },
 "nbformat": 4,
 "nbformat_minor": 2
}
